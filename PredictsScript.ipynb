{
 "cells": [
  {
   "cell_type": "code",
   "execution_count": 47,
   "metadata": {},
   "outputs": [],
   "source": [
    "import pickle\n",
    "import os\n",
    "import wave\n",
    "import numpy as np\n",
    "from numpy import array\n",
    "from shutil import copyfile\n",
    "\n",
    "import warnings\n",
    "warnings.simplefilter(\"ignore\", DeprecationWarning)\n",
    "\n",
    "# глобальные переменные\n",
    "delta = 50\n",
    "reduceCount = 5\n",
    "\n",
    "types = {\n",
    "    1: np.int8,\n",
    "    2: np.int16,\n",
    "    4: np.int32\n",
    "}"
   ]
  },
  {
   "cell_type": "code",
   "execution_count": 48,
   "metadata": {},
   "outputs": [],
   "source": [
    "# загрузка сохраненной модели\n",
    "filename = 'finalized_model.sav'\n",
    "mlp = pickle.load(open(filename, 'rb'))"
   ]
  },
  {
   "cell_type": "code",
   "execution_count": 49,
   "metadata": {},
   "outputs": [],
   "source": [
    "def readFromSamplesTxt(filename):\n",
    "    text_file = open(filename, \"r\")\n",
    "    result = text_file.read().split('\\n')[:-1]\n",
    "    return list(map(lambda x: float(x), result))"
   ]
  },
  {
   "cell_type": "code",
   "execution_count": 50,
   "metadata": {},
   "outputs": [],
   "source": [
    "def convertSamplesInArray(directory):\n",
    "    files = os.listdir(directory)\n",
    "    samples = filter(lambda x: x.endswith('.txt'), files)\n",
    "    output = []\n",
    "\n",
    "    for sample in samples:\n",
    "        output.append(readFromSamplesTxt(directory + \"/\" + sample))\n",
    "    return output"
   ]
  },
  {
   "cell_type": "code",
   "execution_count": 51,
   "metadata": {},
   "outputs": [],
   "source": [
    "# def convertSoundsInSamples(directory):\n",
    "#     files = os.listdir(directory)\n",
    "#     sounds = filter(lambda x: x.endswith('.wav'), files)\n",
    "\n",
    "#     for sound in sounds:\n",
    "#         wav = wave.open(directory + \"/\" + sound, mode=\"r\")\n",
    "#         (nchannels, sampwidth, framerate, nframes, comptype, compname) = wav.getparams()\n",
    "\n",
    "#         content = wav.readframes(nframes)\n",
    "#         samples = np.fromstring(content, dtype=types[sampwidth])\n",
    "#         cuttedSamples = cutSamples(samples)\n",
    "#         filename = sound[:-3]\n",
    "#         printSamplesInFile(cuttedSamples, directory + \"/samples/\" + filename + \"txt\")"
   ]
  },
  {
   "cell_type": "code",
   "execution_count": 52,
   "metadata": {},
   "outputs": [],
   "source": [
    "# Свертка (сжимает массив сэмплов, усредняя значения)\n",
    "def cutSamples(samples):\n",
    "    i = 0\n",
    "    values = []\n",
    "    while i + delta < samples.size:\n",
    "        samplesSlice = samples[i:i+delta]\n",
    "        samplesSlice = list(map(lambda x: abs(x), samplesSlice))\n",
    "        samplesSlice.sort()\n",
    "        samplesSlice = samplesSlice[reduceCount : delta - reduceCount]\n",
    "        value = sum(samplesSlice) / len(samplesSlice)\n",
    "        values.append(value)\n",
    "        i = i + delta\n",
    "    \n",
    "    return values"
   ]
  },
  {
   "cell_type": "code",
   "execution_count": 53,
   "metadata": {},
   "outputs": [],
   "source": [
    "def printSamplesInFile(samples, filename):\n",
    "    output = open(filename, \"w\")\n",
    "    for sample in samples:\n",
    "        string ='{:.2f}'.format(sample)\n",
    "        output.write(string + '\\n')\n",
    "    output.close()"
   ]
  },
  {
   "cell_type": "code",
   "execution_count": 54,
   "metadata": {},
   "outputs": [],
   "source": [
    "# # переводим звуки в текстовые файлы с данными\n",
    "# convertSoundsInSamples(\"results/test\")"
   ]
  },
  {
   "cell_type": "code",
   "execution_count": 55,
   "metadata": {},
   "outputs": [],
   "source": [
    "directory = \"results/test\"\n",
    "files = os.listdir(directory)\n",
    "sounds = filter(lambda x: x.endswith('.wav'), files)\n",
    "\n",
    "for sound in sounds:\n",
    "    wav = wave.open(directory + \"/\" + sound, mode=\"r\")\n",
    "    (nchannels, sampwidth, framerate, nframes, comptype, compname) = wav.getparams()\n",
    "\n",
    "    content = wav.readframes(nframes)\n",
    "    samples = np.fromstring(content, dtype=types[sampwidth])\n",
    "    cuttedSamples = cutSamples(samples)\n",
    "    \n",
    "    checked_data = array(cuttedSamples).reshape(1, -1)\n",
    "    isCough = mlp.predict(checked_data)\n",
    "    \n",
    "    source = directory + \"/\" + sound\n",
    "    if isCough:\n",
    "        copyfile(source, directory + \"/positive/\" + sound)\n",
    "    else:\n",
    "        copyfile(source, directory + \"/negative/\" + sound)"
   ]
  },
  {
   "cell_type": "code",
   "execution_count": null,
   "metadata": {},
   "outputs": [],
   "source": []
  }
 ],
 "metadata": {
  "kernelspec": {
   "display_name": "Python 3",
   "language": "python",
   "name": "python3"
  },
  "language_info": {
   "codemirror_mode": {
    "name": "ipython",
    "version": 3
   },
   "file_extension": ".py",
   "mimetype": "text/x-python",
   "name": "python",
   "nbconvert_exporter": "python",
   "pygments_lexer": "ipython3",
   "version": "3.7.1"
  }
 },
 "nbformat": 4,
 "nbformat_minor": 2
}
