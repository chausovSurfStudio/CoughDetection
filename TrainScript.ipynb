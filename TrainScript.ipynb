{
 "cells": [
  {
   "cell_type": "code",
   "execution_count": 98,
   "metadata": {},
   "outputs": [],
   "source": [
    "def readFromSamplesTxt(filename):\n",
    "    text_file = open(filename, \"r\")\n",
    "    result = text_file.read().split('\\n')[:-1]\n",
    "    return list(map(lambda x: float(x), result))"
   ]
  },
  {
   "cell_type": "code",
   "execution_count": 99,
   "metadata": {},
   "outputs": [],
   "source": [
    "# readFromSamplesTxt(\"results/кашель/samples/result_5,27.txt\")\n",
    "import os\n",
    "def convertSamplesInArray(directory):\n",
    "    files = os.listdir(directory)\n",
    "    samples = filter(lambda x: x.endswith('.txt'), files)\n",
    "    output = []\n",
    "\n",
    "    for sample in samples:\n",
    "        output.append(readFromSamplesTxt(directory + \"/\" + sample))\n",
    "    return output"
   ]
  },
  {
   "cell_type": "code",
   "execution_count": 100,
   "metadata": {},
   "outputs": [],
   "source": [
    "positive = convertSamplesInArray(\"results/кашель/samples\")\n",
    "negative = convertSamplesInArray(\"results/не кашель/samples\")\n",
    "\n",
    "train_positive_len = 245\n",
    "train_negative_len = 670"
   ]
  },
  {
   "cell_type": "code",
   "execution_count": 146,
   "metadata": {},
   "outputs": [
    {
     "name": "stdout",
     "output_type": "stream",
     "text": [
      "Training set score: 0.815301\n",
      "Test set score: 0.788779\n"
     ]
    }
   ],
   "source": [
    "from sklearn.neural_network import MLPClassifier\n",
    "from random import shuffle\n",
    "\n",
    "shuffle(positive)\n",
    "shuffle(negative)\n",
    "\n",
    "train_positive = positive[:train_positive_len]\n",
    "train_negative = negative[:train_negative_len]\n",
    "test_positive = positive[train_positive_len:]\n",
    "test_negative = negative[train_negative_len:]\n",
    "\n",
    "train_set = []\n",
    "for samples in train_positive:\n",
    "    train_set.append([samples, 1])\n",
    "for samples in train_negative:\n",
    "    train_set.append([samples, 0])\n",
    "\n",
    "test_set = []\n",
    "for samples in test_positive:\n",
    "    test_set.append([samples, 1])\n",
    "for samples in test_negative:\n",
    "    test_set.append([samples, 0])\n",
    "    \n",
    "X_train = list(map(lambda x: x[0], train_set))\n",
    "Y_train = list(map(lambda x: x[1], train_set))\n",
    "\n",
    "X_test = list(map(lambda x: x[0], test_set))\n",
    "Y_test = list(map(lambda x: x[1], test_set))\n",
    "\n",
    "mlp = MLPClassifier(hidden_layer_sizes=(198, ), \n",
    "                    activation='logistic', \n",
    "                    solver='lbfgs', \n",
    "                    alpha=0.0001, \n",
    "#                     batch_size='auto', \n",
    "#                     learning_rate='constant', \n",
    "#                     learning_rate_init=0.001, \n",
    "#                     power_t=0.5, \n",
    "                    max_iter=100, \n",
    "#                     shuffle=True, \n",
    "#                     random_state=None, \n",
    "                    tol=0.0001, \n",
    "                    verbose=False, \n",
    "                    warm_start=False, \n",
    "#                     momentum=0.9, \n",
    "#                     nesterovs_momentum=True, \n",
    "#                     early_stopping=False, \n",
    "#                     validation_fraction=0.1, \n",
    "#                     beta_1=0.9, \n",
    "#                     beta_2=0.999, \n",
    "#                     epsilon=1e-08\n",
    "                   )\n",
    "\n",
    "mlp.fit(X_train, Y_train)\n",
    "print(\"Training set score: %f\" % mlp.score(X_train, Y_train))\n",
    "print(\"Test set score: %f\" % mlp.score(X_test, Y_test))"
   ]
  },
  {
   "cell_type": "code",
   "execution_count": null,
   "metadata": {},
   "outputs": [],
   "source": []
  }
 ],
 "metadata": {
  "kernelspec": {
   "display_name": "Python 3",
   "language": "python",
   "name": "python3"
  },
  "language_info": {
   "codemirror_mode": {
    "name": "ipython",
    "version": 3
   },
   "file_extension": ".py",
   "mimetype": "text/x-python",
   "name": "python",
   "nbconvert_exporter": "python",
   "pygments_lexer": "ipython3",
   "version": "3.7.1"
  }
 },
 "nbformat": 4,
 "nbformat_minor": 2
}
