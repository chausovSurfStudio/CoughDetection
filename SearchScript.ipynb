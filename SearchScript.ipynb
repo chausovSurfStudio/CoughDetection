{
 "cells": [
  {
   "cell_type": "code",
   "execution_count": 10,
   "metadata": {},
   "outputs": [],
   "source": [
    "import wave\n",
    "import numpy as np\n",
    "import pylab\n",
    "import matplotlib.pyplot as plt\n",
    "import matplotlib.ticker as ticker\n",
    "import math\n",
    "\n",
    "import warnings\n",
    "warnings.simplefilter(\"ignore\", DeprecationWarning)\n",
    "\n",
    "# глобальные переменные\n",
    "delta = 50\n",
    "reduceCount = 5\n",
    "\n",
    "types = {\n",
    "    1: np.int8,\n",
    "    2: np.int16,\n",
    "    4: np.int32\n",
    "}"
   ]
  },
  {
   "cell_type": "code",
   "execution_count": 11,
   "metadata": {},
   "outputs": [],
   "source": [
    "# Запись массива сэмплов в файл\n",
    "def printSamples(samples):\n",
    "    output = open(\"samples.txt\", \"w\")\n",
    "    for sample in samples:\n",
    "        string ='{:.2f}'.format(sample)\n",
    "        output.write(string + '\\n')\n",
    "    output.close()"
   ]
  },
  {
   "cell_type": "code",
   "execution_count": 12,
   "metadata": {},
   "outputs": [],
   "source": [
    "# Свертка (сжимает массив сэмплов, усредняя значения)\n",
    "def cutSamples(samples):\n",
    "    i = 0\n",
    "    values = []\n",
    "    while i + delta < samples.size:\n",
    "        samplesSlice = samples[i:i+delta]\n",
    "        samplesSlice = list(map(lambda x: abs(x), samplesSlice))\n",
    "        samplesSlice.sort()\n",
    "        samplesSlice = samplesSlice[reduceCount : delta - reduceCount]\n",
    "        value = sum(samplesSlice) / len(samplesSlice)\n",
    "        values.append(value)\n",
    "        i = i + delta\n",
    "    \n",
    "    return values"
   ]
  },
  {
   "cell_type": "code",
   "execution_count": 13,
   "metadata": {},
   "outputs": [],
   "source": [
    "# Обрезка файла    \n",
    "def cutAudio(fileName, source, target, outputName): \n",
    "    inputFile = wave.open(fileName, mode=\"r\")\n",
    "    (channels, sWidth, rate, framesCount, comptype, compname) = inputFile.getparams()\n",
    "    \n",
    "    content = inputFile.readframes(framesCount)\n",
    "    samples = np.fromstring(content, dtype=types[sWidth])\n",
    "    samples = samples[round(source*rate):round(target*rate)]\n",
    "\n",
    "    outputFile = wave.open(outputName, mode=\"w\")\n",
    "    outputFile.setparams((channels, sWidth, rate, samples.size, comptype, compname))\n",
    "    outputFile.writeframes(samples)\n",
    "    outputFile.close()\n",
    "    \n",
    "    return cutSamples(samples)"
   ]
  },
  {
   "cell_type": "code",
   "execution_count": 14,
   "metadata": {},
   "outputs": [
    {
     "data": {
      "image/png": "[encoded data removed]",
      "text/plain": [
       "<Figure size 432x288 with 1 Axes>"
      ]
     },
     "metadata": {
      "needs_background": "light"
     },
     "output_type": "display_data"
    }
   ],
   "source": [
    "values = cutAudio(\"40min.wav\", 5.22, 5.67, \"5,1-5,8.wav\")\n",
    "\n",
    "pylab.plot(values)\n",
    "pylab.show()"
   ]
  },
  {
   "cell_type": "code",
   "execution_count": 18,
   "metadata": {},
   "outputs": [
    {
     "name": "stdout",
     "output_type": "stream",
     "text": [
      "1 2 22050 52956160 NONE not compressed\n",
      "164\n",
      "[5.272108843537415, 5.916099773242631, 8.235827664399093, 10.811791383219955, 15.793650793650794, 108.5578231292517, 110.01587301587301, 126.30839002267574, 303.2018140589569, 324.718820861678, 328.84353741496597, 329.42857142857144, 332.6621315192744, 349.07936507936506, 583.0702947845805, 584.6938775510204, 585.2879818594105, 586.2743764172336, 592.5147392290249, 596.031746031746, 626.3877551020408, 626.780045351474, 633.156462585034, 642.0770975056689, 656.7732426303855, 657.1655328798186, 690.9727891156463, 693.2290249433106, 696.9773242630386, 711.6054421768707, 713.5827664399093, 717.8321995464853, 736.9251700680272, 786.1814058956916, 864.7891156462586, 865.8843537414966, 876.3877551020408, 886.780045351474, 888.3537414965987, 917.9818594104308, 938.3945578231293, 1005.2063492063492, 1101.875283446712, 1103.1609977324263, 1112.015873015873, 1183.095238095238, 1201.8639455782313, 1352.1904761904761, 1353.9410430839002, 1354.8253968253969, 1402.092970521542, 1402.514739229025, 1465.1541950113378, 1471.235827664399, 1471.6802721088436, 1472.6961451247166, 1476.9092970521542, 1477.3219954648525, 1482.9319727891157, 1503.204081632653, 1611.7369614512472, 1613.716553287982, 1623.3673469387754, 1624.3968253968253, 1625.0045351473923, 1714.8707482993198, 1715.235827664399, 1743.7709750566894, 1769.4353741496598, 1785.3809523809523, 1786.1360544217687, 1786.5532879818595, 1806.4195011337868, 1873.668934240363, 1884.7074829931973, 1885.875283446712, 1888.843537414966, 1889.3990929705215, 1914.5555555555557, 1918.0340136054422, 1919.0544217687075, 1920.3015873015872, 1921.2857142857142, 1922.6757369614513, 1926.3877551020407, 1953.3061224489795, 1964.5668934240364, 1967.6621315192745, 1968.8866213151928, 1970.8820861678005, 1971.2721088435374, 1971.888888888889, 1972.328798185941, 1972.7551020408164, 1973.2063492063492, 1973.8548752834467, 1976.4058956916099, 1989.455782312925, 2023.5102040816328, 2025.360544217687, 2026.0272108843537, 2031.3537414965986, 2031.8616780045352, 2032.3015873015872, 2032.700680272109, 2033.9727891156463, 2034.392290249433, 2034.8684807256236, 2038.6893424036282, 2039.6598639455783, 2042.5192743764173, 2051.024943310658, 2060.02947845805, 2060.4784580498867, 2061.095238095238, 2062.0702947845807, 2074.843537414966, 2093.802721088435, 2103.344671201814, 2115.891156462585, 2132.8820861678005, 2133.342403628118, 2139.7165532879817, 2140.662131519274, 2151.281179138322, 2152.183673469388, 2158.700680272109, 2162.2766439909296, 2184.3151927437643, 2185.3174603174602, 2185.7755102040815, 2187.011337868481, 2188.8526077097504, 2206.784580498866, 2228.528344671202, 2230.8503401360545, 2232.458049886621, 2263.7732426303855, 2270.8639455782313, 2272.312925170068, 2274.3038548752834, 2275.9614512471653, 2276.6666666666665, 2283.8843537414964, 2289.7437641723354, 2294.673469387755, 2320.3990929705215, 2321.285714285714, 2322.3854875283446, 2322.8866213151928, 2323.312925170068, 2323.7097505668935, 2325.8503401360545, 2334.514739229025, 2388.1995464852607, 2388.907029478458, 2389.566893424036, 2390.3197278911566, 2390.918367346939, 2392.2721088435374, 2393.6802721088434, 2395.9931972789113, 2396.671201814059, 2399.2517006802723]\n"
     ]
    }
   ],
   "source": [
    "wav = wave.open(\"111.wav\", mode=\"r\")\n",
    "(nchannels, sampwidth, framerate, nframes, comptype, compname) = wav.getparams()\n",
    "print(nchannels, sampwidth, framerate, nframes, comptype, compname)\n",
    "\n",
    "duration = nframes / framerate\n",
    "content = wav.readframes(nframes)\n",
    "samples = np.fromstring(content, dtype=types[sampwidth])\n",
    "values = cutSamples(samples)\n",
    "printSamples(values)\n",
    "\n",
    "# нахождение пиков в записи\n",
    "frameOnCut = []\n",
    "i = 20\n",
    "prevResults = i\n",
    "while i < len(values):\n",
    "    if values[i] > 10000:\n",
    "        slice = values[i-prevResults:i]\n",
    "        minPrevValue = min(slice)\n",
    "        if values[i] / minPrevValue > 20:\n",
    "            frameOnCut.append(i)\n",
    "            i += 150\n",
    "            continue\n",
    "    i += 1\n",
    "\n",
    "# переводим величины массива frameOnCut из порядкового номера фрейма в секунды\n",
    "frameOnCut = list(map(lambda x: x*delta, frameOnCut))\n",
    "frameOnCut = list(map(lambda x: x/framerate, frameOnCut))\n",
    "print(len(frameOnCut))\n",
    "print(frameOnCut)\n",
    "\n",
    "# вырезаем аудио-файл с каждым пиком и строим диаграмму\n",
    "for framePik in frameOnCut:\n",
    "    endPath = '{:.2f}'.format(framePik)\n",
    "    path = \"results/sounds/result_\" + endPath + \".wav\"\n",
    "    imagePath = \"results/graphics/result_\" + endPath + \".png\"\n",
    "    path = path.replace(\".\", \",\", 1)\n",
    "    imagePath = imagePath.replace(\".\", \",\", 1)\n",
    "    values = cutAudio(\"111.wav\", framePik-0.05, framePik+0.4, path)\n",
    "    plt.plot(values)\n",
    "    plt.savefig(imagePath)\n",
    "    plt.close()"
   ]
  },
  {
   "cell_type": "code",
   "execution_count": null,
   "metadata": {
    "collapsed": true
   },
   "outputs": [],
   "source": []
  }
 ],
 "metadata": {
  "kernelspec": {
   "display_name": "Python 3",
   "language": "python",
   "name": "python3"
  },
  "language_info": {
   "codemirror_mode": {
    "name": "ipython",
    "version": 3
   },
   "file_extension": ".py",
   "mimetype": "text/x-python",
   "name": "python",
   "nbconvert_exporter": "python",
   "pygments_lexer": "ipython3",
   "version": "3.7.1"
  }
 },
 "nbformat": 4,
 "nbformat_minor": 2
}
